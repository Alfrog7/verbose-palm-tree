{
  "nbformat": 4,
  "nbformat_minor": 0,
  "metadata": {
    "colab": {
      "provenance": [],
      "gpuType": "T4"
    },
    "kernelspec": {
      "name": "python3",
      "display_name": "Python 3"
    },
    "language_info": {
      "name": "python"
    },
    "accelerator": "GPU"
  },
  "cells": [
    {
      "cell_type": "markdown",
      "source": [
        "#Importaciones#"
      ],
      "metadata": {
        "id": "bUplyvdjsGFA"
      }
    },
    {
      "cell_type": "code",
      "source": [
        "import os\n",
        "import cv2\n",
        "import numpy as np\n",
        "import matplotlib.pyplot as plt\n",
        "import json\n",
        "from collections import defaultdict\n",
        "from skimage.feature import hog, local_binary_pattern\n",
        "from PIL import Image\n",
        "import seaborn as sns"
      ],
      "metadata": {
        "id": "vxl00l6-sFg3"
      },
      "execution_count": null,
      "outputs": []
    },
    {
      "cell_type": "code",
      "source": [
        "from google.colab import drive\n",
        "drive.mount('/content/drive')"
      ],
      "metadata": {
        "colab": {
          "base_uri": "https://localhost:8080/"
        },
        "id": "_jeT2G8_rSkP",
        "outputId": "19bb36cc-b5f4-48f1-a01e-d454a2f71eee"
      },
      "execution_count": null,
      "outputs": [
        {
          "output_type": "stream",
          "name": "stdout",
          "text": [
            "Mounted at /content/drive\n"
          ]
        }
      ]
    },
    {
      "cell_type": "code",
      "source": [
        "# Ruta específica para análisis\n",
        "path = '/content/drive/MyDrive/dataset2'\n",
        "\n",
        "# Leer contenido\n",
        "items = os.listdir(path)\n",
        "\n",
        "print(f\"Contenido de {path}:\")\n",
        "for item in items:\n",
        "    print(f\"- {item}\")"
      ],
      "metadata": {
        "colab": {
          "base_uri": "https://localhost:8080/"
        },
        "id": "5mBjelW1rsiH",
        "outputId": "824b08e6-ca98-44cd-c47d-f22b7dfaf3e5"
      },
      "execution_count": null,
      "outputs": [
        {
          "output_type": "stream",
          "name": "stdout",
          "text": [
            "Contenido de /content/drive/MyDrive/dataset2:\n",
            "- Final Training Data\n",
            "- Vineyards Leaf Disease Detection.v6i.coco\n"
          ]
        }
      ]
    },
    {
      "cell_type": "code",
      "source": [
        "roboflow_path = '/content/drive/MyDrive/dataset2/Vineyards Leaf Disease Detection.v6i.coco'\n",
        "kaggle_path = '/content/drive/MyDrive/dataset2/Final Training Data'\n",
        "\n",
        "print(\"INICIANDO ANÁLISIS DE DATASETS DE VIÑEDOS\")\n",
        "print(\"=\" * 60)"
      ],
      "metadata": {
        "colab": {
          "base_uri": "https://localhost:8080/"
        },
        "id": "6Jn06zYYu52P",
        "outputId": "b84b7a2a-6b8d-4c06-88c0-3b985e87a6fd"
      },
      "execution_count": null,
      "outputs": [
        {
          "output_type": "stream",
          "name": "stdout",
          "text": [
            "INICIANDO ANÁLISIS DE DATASETS DE VIÑEDOS\n",
            "============================================================\n"
          ]
        }
      ]
    },
    {
      "cell_type": "markdown",
      "source": [
        "Funciones de Analisis"
      ],
      "metadata": {
        "id": "t4yieg4SvAbP"
      }
    },
    {
      "cell_type": "code",
      "source": [
        "def analyze_image_dimensions(image_paths):\n",
        "    \"\"\"Analizar dimensiones de imágenes\"\"\"\n",
        "    dimensions = []\n",
        "    for img_path in image_paths:\n",
        "        try:\n",
        "            img = cv2.imread(img_path)\n",
        "            if img is not None:\n",
        "                h, w, c = img.shape\n",
        "                dimensions.append((w, h))\n",
        "        except:\n",
        "            continue\n",
        "    return dimensions\n",
        "\n",
        "def extract_hog_features(image_path):\n",
        "    \"\"\"Extraer características HOG\"\"\"\n",
        "    try:\n",
        "        img = cv2.imread(image_path, cv2.IMREAD_GRAYSCALE)\n",
        "        if img is not None:\n",
        "            # Redimensionar para consistencia\n",
        "            img = cv2.resize(img, (128, 128))\n",
        "            features = hog(img, orientations=9, pixels_per_cell=(8, 8),\n",
        "                          cells_per_block=(2, 2), visualize=False)\n",
        "            return features\n",
        "    except:\n",
        "        return None\n",
        "    return None\n",
        "\n",
        "def extract_lbp_features(image_path):\n",
        "    \"\"\"Extraer características LBP (Local Binary Pattern)\"\"\"\n",
        "    try:\n",
        "        img = cv2.imread(image_path, cv2.IMREAD_GRAYSCALE)\n",
        "        if img is not None:\n",
        "            # Redimensionar para consistencia\n",
        "            img = cv2.resize(img, (128, 128))\n",
        "            # Parámetros LBP\n",
        "            radius = 3\n",
        "            n_points = 8 * radius\n",
        "            lbp = local_binary_pattern(img, n_points, radius, method='uniform')\n",
        "            # Histograma de LBP\n",
        "            hist, _ = np.histogram(lbp.ravel(), bins=n_points + 2,\n",
        "                                 range=(0, n_points + 2), density=True)\n",
        "            return hist\n",
        "    except:\n",
        "        return None\n",
        "    return None"
      ],
      "metadata": {
        "id": "txCNljhHvCLJ"
      },
      "execution_count": null,
      "outputs": []
    },
    {
      "cell_type": "markdown",
      "source": [
        "Analisis Dataset Roboflow (Coco Format)"
      ],
      "metadata": {
        "id": "yYbdGYhWvEVX"
      }
    },
    {
      "cell_type": "code",
      "source": [
        "print(\"\\n📊 ANÁLISIS DATASET ROBOFLOW\")\n",
        "print(\"-\" * 40)\n",
        "\n",
        "roboflow_stats = {\n",
        "    'train': {'images': 0, 'annotations': 0, 'classes': set()},\n",
        "    'valid': {'images': 0, 'annotations': 0, 'classes': set()},\n",
        "    'test': {'images': 0, 'annotations': 0, 'classes': set()}\n",
        "}\n",
        "\n",
        "roboflow_dimensions = {'train': [], 'valid': [], 'test': []}\n",
        "roboflow_hog_features = {'train': [], 'valid': [], 'test': []}\n",
        "roboflow_lbp_features = {'train': [], 'valid': [], 'test': []}\n",
        "\n",
        "# Analizar cada split (train, valid, test)\n",
        "for split in ['train', 'valid', 'test']:\n",
        "    split_path = os.path.join(roboflow_path, split)\n",
        "    annotation_file = os.path.join(split_path, '_annotations.coco.json')\n",
        "\n",
        "    if os.path.exists(annotation_file):\n",
        "        print(f\"\\n🔍 Analizando {split.upper()}...\")\n",
        "\n",
        "        # Cargar anotaciones COCO\n",
        "        with open(annotation_file, 'r') as f:\n",
        "            coco_data = json.load(f)\n",
        "\n",
        "        # Estadísticas básicas\n",
        "        images = coco_data.get('images', [])\n",
        "        annotations = coco_data.get('annotations', [])\n",
        "        categories = coco_data.get('categories', [])\n",
        "\n",
        "        roboflow_stats[split]['images'] = len(images)\n",
        "        roboflow_stats[split]['annotations'] = len(annotations)\n",
        "\n",
        "        # Clases\n",
        "        for cat in categories:\n",
        "            roboflow_stats[split]['classes'].add(cat['name'])\n",
        "\n",
        "        print(f\"  📸 Imágenes: {len(images)}\")\n",
        "        print(f\"  🏷️  Anotaciones: {len(annotations)}\")\n",
        "        print(f\"  📁 Clases: {len(categories)}\")\n",
        "\n",
        "        # Analizar imágenes\n",
        "        image_paths = []\n",
        "        for img_info in images[:50]:  # Limitar para análisis inicial\n",
        "            img_path = os.path.join(split_path, img_info['file_name'])\n",
        "            if os.path.exists(img_path):\n",
        "                image_paths.append(img_path)\n",
        "\n",
        "        # Dimensiones\n",
        "        dimensions = analyze_image_dimensions(image_paths)\n",
        "        roboflow_dimensions[split] = dimensions\n",
        "\n",
        "        # Características HOG y LBP (muestra pequeña para eficiencia)\n",
        "        for img_path in image_paths[:10]:\n",
        "            hog_feat = extract_hog_features(img_path)\n",
        "            lbp_feat = extract_lbp_features(img_path)\n",
        "\n",
        "            if hog_feat is not None:\n",
        "                roboflow_hog_features[split].append(hog_feat)\n",
        "            if lbp_feat is not None:\n",
        "                roboflow_lbp_features[split].append(lbp_feat)\n"
      ],
      "metadata": {
        "colab": {
          "base_uri": "https://localhost:8080/"
        },
        "id": "kJVMwQmdvJPX",
        "outputId": "cc2d4354-e5d6-494b-a43d-11e22acd59e9"
      },
      "execution_count": null,
      "outputs": [
        {
          "output_type": "stream",
          "name": "stdout",
          "text": [
            "\n",
            "📊 ANÁLISIS DATASET ROBOFLOW\n",
            "----------------------------------------\n",
            "\n",
            "🔍 Analizando TRAIN...\n",
            "  📸 Imágenes: 28077\n",
            "  🏷️  Anotaciones: 28854\n",
            "  📁 Clases: 6\n",
            "\n",
            "🔍 Analizando VALID...\n",
            "  📸 Imágenes: 801\n",
            "  🏷️  Anotaciones: 824\n",
            "  📁 Clases: 6\n",
            "\n",
            "🔍 Analizando TEST...\n",
            "  📸 Imágenes: 535\n",
            "  🏷️  Anotaciones: 559\n",
            "  📁 Clases: 6\n"
          ]
        }
      ]
    },
    {
      "cell_type": "markdown",
      "source": [
        "Analisis Dataset Kaggle (Folders by Class)\n",
        "\n"
      ],
      "metadata": {
        "id": "w99a1i7dvPPp"
      }
    },
    {
      "cell_type": "code",
      "source": [
        "print(\"\\n\\n📊 ANÁLISIS DATASET KAGGLE\")\n",
        "print(\"-\" * 40)\n",
        "\n",
        "kaggle_stats = {}\n",
        "kaggle_dimensions = {}\n",
        "kaggle_hog_features = {}\n",
        "kaggle_lbp_features = {}\n",
        "\n",
        "# Clases esperadas\n",
        "classes = ['Black Rot', 'ESCA', 'Healthy', 'Leaf Blight']\n",
        "\n",
        "for class_name in classes:\n",
        "    class_path = os.path.join(kaggle_path, class_name)\n",
        "\n",
        "    if os.path.exists(class_path):\n",
        "        print(f\"\\n🔍 Analizando clase: {class_name}\")\n",
        "\n",
        "        # Obtener todas las imágenes PNG\n",
        "        image_files = [f for f in os.listdir(class_path) if f.lower().endswith('.png')]\n",
        "\n",
        "        kaggle_stats[class_name] = len(image_files)\n",
        "        print(f\"  📸 Imágenes: {len(image_files)}\")\n",
        "\n",
        "        # Analizar muestra de imágenes\n",
        "        sample_images = image_files[:20]  # Muestra para análisis\n",
        "        image_paths = [os.path.join(class_path, img) for img in sample_images]\n",
        "\n",
        "        # Dimensiones\n",
        "        dimensions = analyze_image_dimensions(image_paths)\n",
        "        kaggle_dimensions[class_name] = dimensions\n",
        "\n",
        "        # Características HOG y LBP\n",
        "        hog_features = []\n",
        "        lbp_features = []\n",
        "\n",
        "\n",
        "\n",
        "        for img_path in image_paths[:10]:  # Muestra pequeña\n",
        "            hog_feat = extract_hog_features(img_path)\n",
        "            lbp_feat = extract_lbp_features(img_path)\n",
        "\n",
        "            if hog_feat is not None:\n",
        "                hog_features.append(hog_feat)\n",
        "            if lbp_feat is not None:\n",
        "                lbp_features.append(lbp_feat)\n",
        "\n",
        "        kaggle_hog_features[class_name] = hog_features\n",
        "        kaggle_lbp_features[class_name] = lbp_features"
      ],
      "metadata": {
        "colab": {
          "base_uri": "https://localhost:8080/"
        },
        "id": "iMX8Nfl0vXJH",
        "outputId": "33f2ac38-a3fb-4b54-a08e-22f4a1240293"
      },
      "execution_count": null,
      "outputs": [
        {
          "output_type": "stream",
          "name": "stdout",
          "text": [
            "\n",
            "\n",
            "📊 ANÁLISIS DATASET KAGGLE\n",
            "----------------------------------------\n",
            "\n",
            "🔍 Analizando clase: Black Rot\n",
            "  📸 Imágenes: 1350\n",
            "\n",
            "🔍 Analizando clase: ESCA\n",
            "  📸 Imágenes: 1344\n",
            "\n",
            "🔍 Analizando clase: Healthy\n",
            "  📸 Imágenes: 1344\n",
            "\n",
            "🔍 Analizando clase: Leaf Blight\n",
            "  📸 Imágenes: 1346\n"
          ]
        }
      ]
    },
    {
      "cell_type": "markdown",
      "source": [
        "Visualizacion de Resultados"
      ],
      "metadata": {
        "id": "YJetofDHygCP"
      }
    },
    {
      "cell_type": "code",
      "source": [
        "print(\"\\n\\n GENERANDO VISUALIZACIONES...\")\n",
        "\n",
        "# 1. Distribución de imágenes por dataset\n",
        "fig, axes = plt.subplots(1, 2, figsize=(15, 6))\n",
        "\n",
        "# Roboflow distribution\n",
        "roboflow_counts = [roboflow_stats[split]['images'] for split in ['train', 'valid', 'test']]\n",
        "axes[0].bar(['Train', 'Valid', 'Test'], roboflow_counts, color=['#1f77b4', '#ff7f0e', '#2ca02c'])\n",
        "axes[0].set_title('Dataset Roboflow - Distribución por Split')\n",
        "axes[0].set_ylabel('Número de Imágenes')\n",
        "\n",
        "# Kaggle distribution\n",
        "kaggle_counts = list(kaggle_stats.values())\n",
        "kaggle_labels = list(kaggle_stats.keys())\n",
        "axes[1].bar(kaggle_labels, kaggle_counts, color=['#d62728', '#9467bd', '#8c564b', '#e377c2'])\n",
        "axes[1].set_title('Dataset Kaggle - Distribución por Clase')\n",
        "axes[1].set_ylabel('Número de Imágenes')\n",
        "axes[1].tick_params(axis='x', rotation=45)\n",
        "\n",
        "plt.tight_layout()\n",
        "plt.show()\n",
        "\n",
        "# 2. Análisis de dimensiones\n",
        "print(\"\\n ANÁLISIS DE DIMENSIONES:\")\n",
        "print(\"=\" * 30)\n",
        "\n",
        "# Roboflow dimensions\n",
        "for split in ['train', 'valid', 'test']:\n",
        "    if roboflow_dimensions[split]:\n",
        "        widths, heights = zip(*roboflow_dimensions[split])\n",
        "        print(f\"Roboflow {split.upper()}:\")\n",
        "        print(f\"  - Ancho promedio: {np.mean(widths):.1f}px\")\n",
        "        print(f\"  - Alto promedio: {np.mean(heights):.1f}px\")\n",
        "        print(f\"  - Dimensión más común: {max(set(roboflow_dimensions[split]), key=roboflow_dimensions[split].count)}\")\n",
        "\n",
        "# Kaggle dimensions\n",
        "for class_name in classes:\n",
        "    if class_name in kaggle_dimensions and kaggle_dimensions[class_name]:\n",
        "        widths, heights = zip(*kaggle_dimensions[class_name])\n",
        "        print(f\"Kaggle {class_name}:\")\n",
        "        print(f\"  - Ancho promedio: {np.mean(widths):.1f}px\")\n",
        "        print(f\"  - Alto promedio: {np.mean(heights):.1f}px\")"
      ],
      "metadata": {
        "colab": {
          "base_uri": "https://localhost:8080/",
          "height": 1000
        },
        "id": "tThxc-eQyhmP",
        "outputId": "09e0be31-20ba-4375-e057-fd6b86123a77"
      },
      "execution_count": null,
      "outputs": [
        {
          "output_type": "stream",
          "name": "stdout",
          "text": [
            "\n",
            "\n",
            " GENERANDO VISUALIZACIONES...\n"
          ]
        },
        {
          "output_type": "display_data",
          "data": {
            "text/plain": [
              "<Figure size 1500x600 with 2 Axes>"
            ],
            "image/png": "[encoded data removed]"
          },
          "metadata": {}
        },
        {
          "output_type": "stream",
          "name": "stdout",
          "text": [
            "\n",
            " ANÁLISIS DE DIMENSIONES:\n",
            "==============================\n",
            "Roboflow TRAIN:\n",
            "  - Ancho promedio: 224.0px\n",
            "  - Alto promedio: 224.0px\n",
            "  - Dimensión más común: (224, 224)\n",
            "Roboflow VALID:\n",
            "  - Ancho promedio: 224.0px\n",
            "  - Alto promedio: 224.0px\n",
            "  - Dimensión más común: (224, 224)\n",
            "Roboflow TEST:\n",
            "  - Ancho promedio: 224.0px\n",
            "  - Alto promedio: 224.0px\n",
            "  - Dimensión más común: (224, 224)\n",
            "Kaggle Black Rot:\n",
            "  - Ancho promedio: 224.0px\n",
            "  - Alto promedio: 224.0px\n",
            "Kaggle ESCA:\n",
            "  - Ancho promedio: 224.0px\n",
            "  - Alto promedio: 224.0px\n",
            "Kaggle Healthy:\n",
            "  - Ancho promedio: 224.0px\n",
            "  - Alto promedio: 224.0px\n",
            "Kaggle Leaf Blight:\n",
            "  - Ancho promedio: 224.0px\n",
            "  - Alto promedio: 224.0px\n"
          ]
        }
      ]
    },
    {
      "cell_type": "code",
      "source": [
        "print(\"\\n\\n RESUMEN FINAL DEL ANÁLISIS\")\n",
        "print(\"=\" * 50)\n",
        "\n",
        "total_roboflow = sum(roboflow_stats[split]['images'] for split in ['train', 'valid', 'test'])\n",
        "total_kaggle = sum(kaggle_stats.values())\n",
        "\n",
        "print(f\" DATASET ROBOFLOW:\")\n",
        "print(f\"  - Total de imágenes: {total_roboflow}\")\n",
        "print(f\"  - Formato: JPG\")\n",
        "print(f\"  - Estructura: COCO (train/valid/test)\")\n",
        "print(f\"  - Clases únicas: {len(set().union(*[roboflow_stats[split]['classes'] for split in ['train', 'valid', 'test']]))}\")\n",
        "\n",
        "print(f\"\\n DATASET KAGGLE:\")\n",
        "print(f\"  - Total de imágenes: {total_kaggle}\")\n",
        "print(f\"  - Formato: PNG\")\n",
        "print(f\"  - Estructura: Carpetas por clase\")\n",
        "print(f\"  - Clases: {len(kaggle_stats)} ({', '.join(kaggle_stats.keys())})\")\n",
        "\n",
        "print(f\"\\n CARACTERÍSTICAS EXTRAÍDAS:\")\n",
        "print(f\"  - HOG: Extraídas para ambos datasets\")\n",
        "print(f\"  - LBP: Extraídas para ambos datasets\")\n",
        "print(f\"  - Dimensiones: Analizadas para todos los splits y clases\")"
      ],
      "metadata": {
        "colab": {
          "base_uri": "https://localhost:8080/"
        },
        "id": "stUKvM3Hyp0B",
        "outputId": "4f22fe91-99d4-45e2-f028-0491f82a7e14"
      },
      "execution_count": null,
      "outputs": [
        {
          "output_type": "stream",
          "name": "stdout",
          "text": [
            "\n",
            "\n",
            " RESUMEN FINAL DEL ANÁLISIS\n",
            "==================================================\n",
            " DATASET ROBOFLOW:\n",
            "  - Total de imágenes: 29413\n",
            "  - Formato: JPG\n",
            "  - Estructura: COCO (train/valid/test)\n",
            "  - Clases únicas: 6\n",
            "\n",
            " DATASET KAGGLE:\n",
            "  - Total de imágenes: 5384\n",
            "  - Formato: PNG\n",
            "  - Estructura: Carpetas por clase\n",
            "  - Clases: 4 (Black Rot, ESCA, Healthy, Leaf Blight)\n",
            "\n",
            " CARACTERÍSTICAS EXTRAÍDAS:\n",
            "  - HOG: Extraídas para ambos datasets\n",
            "  - LBP: Extraídas para ambos datasets\n",
            "  - Dimensiones: Analizadas para todos los splits y clases\n"
          ]
        }
      ]
    },
    {
      "cell_type": "markdown",
      "source": [
        "Reorganizacion de Datasets"
      ],
      "metadata": {
        "id": "wgQN_RgM1ns3"
      }
    },
    {
      "cell_type": "code",
      "source": [
        "import os\n",
        "import json\n",
        "import shutil\n",
        "from collections import defaultdict\n",
        "import cv2"
      ],
      "metadata": {
        "id": "GcedwaiH1qxP"
      },
      "execution_count": null,
      "outputs": []
    },
    {
      "cell_type": "markdown",
      "source": [
        "Configuracion de Rutas"
      ],
      "metadata": {
        "id": "O2M-eutz1xCv"
      }
    },
    {
      "cell_type": "code",
      "source": [
        "roboflow_original = '/content/drive/MyDrive/dataset2/Vineyards Leaf Disease Detection.v6i.coco'\n",
        "kaggle_original = '/content/drive/MyDrive/dataset2/Final Training Data'\n",
        "\n",
        "# Ruta NUEVA para dataset completo\n",
        "dataset_completo = '/content/drive/MyDrive/dataset2/dataset Completo'\n",
        "\n",
        "print(f\"📂 RUTAS DE TRABAJO:\")\n",
        "print(f\"  📖 Roboflow original (solo lectura): {roboflow_original}\")\n",
        "print(f\"  📖 Kaggle original (solo lectura): {kaggle_original}\")\n",
        "print(f\"  📝 Dataset completo (nuevo): {dataset_completo}\")\n",
        "\n",
        "# Verificar que originales existen\n",
        "if not os.path.exists(roboflow_original):\n",
        "    print(f\"❌ Error: No se encuentra {roboflow_original}\")\n",
        "    exit()\n",
        "\n",
        "if not os.path.exists(kaggle_original):\n",
        "    print(f\"❌ Error: No se encuentra {kaggle_original}\")\n",
        "    exit()\n",
        "\n",
        "# Crear directorio del dataset completo\n",
        "os.makedirs(dataset_completo, exist_ok=True)\n",
        "print(f\"✅ Creada carpeta: {dataset_completo}\")"
      ],
      "metadata": {
        "colab": {
          "base_uri": "https://localhost:8080/"
        },
        "id": "O3qNeRyl1uJP",
        "outputId": "2b703d62-59a5-4598-f182-e12bc211894c"
      },
      "execution_count": null,
      "outputs": [
        {
          "output_type": "stream",
          "name": "stdout",
          "text": [
            "📂 RUTAS DE TRABAJO:\n",
            "  📖 Roboflow original (solo lectura): /content/drive/MyDrive/dataset2/Vineyards Leaf Disease Detection.v6i.coco\n",
            "  📖 Kaggle original (solo lectura): /content/drive/MyDrive/dataset2/Final Training Data\n",
            "  📝 Dataset completo (nuevo): /content/drive/MyDrive/dataset2/dataset Completo\n",
            "✅ Creada carpeta: /content/drive/MyDrive/dataset2/dataset Completo\n"
          ]
        }
      ]
    },
    {
      "cell_type": "code",
      "source": [
        "print(\"\\n📋 PASO 1: Analizando clases en Roboflow original...\")\n",
        "\n",
        "# Diccionario para mapear IDs de categorías a nombres\n",
        "category_mapping = {}\n",
        "all_roboflow_classes = set()\n",
        "\n",
        "# Leer anotaciones ORIGINALES sin modificarlas\n",
        "for split in ['train', 'valid', 'test']:\n",
        "    annotation_file = os.path.join(roboflow_original, split, '_annotations.coco.json')\n",
        "\n",
        "    if os.path.exists(annotation_file):\n",
        "        with open(annotation_file, 'r') as f:\n",
        "            coco_data = json.load(f)\n",
        "\n",
        "        # Extraer categorías\n",
        "        categories = coco_data.get('categories', [])\n",
        "        for cat in categories:\n",
        "            category_mapping[cat['id']] = cat['name']\n",
        "            all_roboflow_classes.add(cat['name'])\n",
        "\n",
        "print(f\"🏷️ Clases encontradas en Roboflow: {sorted(all_roboflow_classes)}\")\n",
        "print(f\"📊 Total de clases Roboflow: {len(all_roboflow_classes)}\")"
      ],
      "metadata": {
        "colab": {
          "base_uri": "https://localhost:8080/"
        },
        "id": "Lr0kRTRc134u",
        "outputId": "ae523579-4bc1-49d3-fcc0-61263d398876"
      },
      "execution_count": null,
      "outputs": [
        {
          "output_type": "stream",
          "name": "stdout",
          "text": [
            "\n",
            "📋 PASO 1: Analizando clases en Roboflow original...\n",
            "🏷️ Clases encontradas en Roboflow: ['Black_rot', 'Downey_mildew', 'Esca', 'Healthy', 'Leaf_blight', 'Vineyards-leaf-diseases']\n",
            "📊 Total de clases Roboflow: 6\n"
          ]
        }
      ]
    },
    {
      "cell_type": "code",
      "source": [
        "print(\"\\n📋 PASO 2: Analizando clases en Kaggle original...\")\n",
        "\n",
        "kaggle_classes = []\n",
        "if os.path.exists(kaggle_original):\n",
        "    kaggle_classes = [item for item in os.listdir(kaggle_original)\n",
        "                     if os.path.isdir(os.path.join(kaggle_original, item))]\n",
        "\n",
        "print(f\"🏷️ Clases encontradas en Kaggle: {sorted(kaggle_classes)}\")\n",
        "print(f\"📊 Total de clases Kaggle: {len(kaggle_classes)}\")\n"
      ],
      "metadata": {
        "colab": {
          "base_uri": "https://localhost:8080/"
        },
        "id": "L6XT41Ha194_",
        "outputId": "7ad64d0a-d255-4241-cdca-4ef63de05121"
      },
      "execution_count": null,
      "outputs": [
        {
          "output_type": "stream",
          "name": "stdout",
          "text": [
            "\n",
            "📋 PASO 2: Analizando clases en Kaggle original...\n",
            "🏷️ Clases encontradas en Kaggle: ['Black Rot', 'ESCA', 'Healthy', 'Leaf Blight']\n",
            "📊 Total de clases Kaggle: 4\n"
          ]
        }
      ]
    },
    {
      "cell_type": "markdown",
      "source": [
        "Crear Estructura en dataset Completo"
      ],
      "metadata": {
        "id": "l9M51J382C6G"
      }
    },
    {
      "cell_type": "code",
      "source": [
        "print(\"\\n📁 PASO 3: Creando estructura en dataset completo...\")\n",
        "\n",
        "# MAPEO PARA UNIFICAR CLASES DUPLICADAS\n",
        "class_unification = {\n",
        "    'Black_rot': 'Black Rot',\n",
        "    'Black Rot': 'Black Rot',\n",
        "    'ESCA': 'Esca',\n",
        "    'Esca': 'Esca',\n",
        "    'Leaf_blight': 'Leaf Blight',\n",
        "    'Leaf Blight': 'Leaf Blight',\n",
        "    'Downey_mildew': 'Downy Mildew',\n",
        "    'Healthy': 'Healthy',\n",
        "    'Vineyards-leaf-diseases': 'Mixed_Diseases'\n",
        "}\n",
        "\n",
        "# Aplicar unificación a clases de Roboflow\n",
        "unified_roboflow_classes = set()\n",
        "for original_class in all_roboflow_classes:\n",
        "    if original_class in class_unification:\n",
        "        unified_roboflow_classes.add(class_unification[original_class])\n",
        "    else:\n",
        "        unified_roboflow_classes.add(original_class)\n",
        "\n",
        "# Aplicar unificación a clases de Kaggle\n",
        "unified_kaggle_classes = set()\n",
        "for original_class in kaggle_classes:\n",
        "    if original_class in class_unification:\n",
        "        unified_kaggle_classes.add(class_unification[original_class])\n",
        "    else:\n",
        "        unified_kaggle_classes.add(original_class)\n",
        "\n",
        "# Obtener todas las clases únicas DESPUÉS de unificación\n",
        "all_classes = unified_roboflow_classes | unified_kaggle_classes\n",
        "\n",
        "print(f\"🔧 CLASES ANTES DE UNIFICACIÓN:\")\n",
        "print(f\"  Roboflow: {sorted(all_roboflow_classes)}\")\n",
        "print(f\"  Kaggle: {sorted(kaggle_classes)}\")\n",
        "\n",
        "print(f\"\\n🔗 CLASES DESPUÉS DE UNIFICACIÓN:\")\n",
        "print(f\"  Total únicas: {len(all_classes)}\")\n",
        "print(f\"  Clases finales: {sorted(all_classes)}\")\n",
        "\n",
        "# Crear estructura en dataset completo\n",
        "roboflow_section = os.path.join(dataset_completo, 'Roboflow_Organizado')\n",
        "kaggle_section = os.path.join(dataset_completo, 'Kaggle_Organizado')\n",
        "unified_section = os.path.join(dataset_completo, 'Dataset_Unificado')\n",
        "\n",
        "os.makedirs(roboflow_section, exist_ok=True)\n",
        "os.makedirs(kaggle_section, exist_ok=True)\n",
        "os.makedirs(unified_section, exist_ok=True)\n",
        "\n",
        "# Crear carpetas para cada clase UNIFICADA\n",
        "for class_name in all_classes:\n",
        "    os.makedirs(os.path.join(roboflow_section, class_name), exist_ok=True)\n",
        "    os.makedirs(os.path.join(unified_section, class_name), exist_ok=True)\n",
        "\n",
        "for class_name in unified_kaggle_classes:\n",
        "    os.makedirs(os.path.join(kaggle_section, class_name), exist_ok=True)\n",
        "\n",
        "print(f\"✅ Estructura de carpetas creada con clases unificadas\")"
      ],
      "metadata": {
        "colab": {
          "base_uri": "https://localhost:8080/"
        },
        "id": "mNpM-oDy1_t2",
        "outputId": "6ac5bc5b-0b56-4f2a-e499-6b38a981b323"
      },
      "execution_count": null,
      "outputs": [
        {
          "output_type": "stream",
          "name": "stdout",
          "text": [
            "\n",
            "📁 PASO 3: Creando estructura en dataset completo...\n",
            "🔧 CLASES ANTES DE UNIFICACIÓN:\n",
            "  Roboflow: ['Black_rot', 'Downey_mildew', 'Esca', 'Healthy', 'Leaf_blight', 'Vineyards-leaf-diseases']\n",
            "  Kaggle: ['Black Rot', 'ESCA', 'Healthy', 'Leaf Blight']\n",
            "\n",
            "🔗 CLASES DESPUÉS DE UNIFICACIÓN:\n",
            "  Total únicas: 6\n",
            "  Clases finales: ['Black Rot', 'Downy Mildew', 'Esca', 'Healthy', 'Leaf Blight', 'Mixed_Diseases']\n",
            "✅ Estructura de carpetas creada con clases unificadas\n"
          ]
        }
      ]
    },
    {
      "cell_type": "markdown",
      "source": [
        "Copiar y Organizar Roboflow (sin alterar original)"
      ],
      "metadata": {
        "id": "v2eqcLWJ4fLu"
      }
    },
    {
      "cell_type": "code",
      "source": [
        "print(\"\\n🔄 PASO 4: Copiando y organizando Roboflow...\")\n",
        "\n",
        "# Contador de imágenes por clase\n",
        "roboflow_class_counts = defaultdict(int)\n",
        "\n",
        "for split in ['train', 'valid', 'test']:\n",
        "    split_path = os.path.join(roboflow_original, split)\n",
        "    annotation_file = os.path.join(split_path, '_annotations.coco.json')\n",
        "\n",
        "    if os.path.exists(annotation_file):\n",
        "        print(f\"\\n  🔍 Procesando {split.upper()} (desde original)...\")\n",
        "\n",
        "        with open(annotation_file, 'r') as f:\n",
        "            coco_data = json.load(f)\n",
        "\n",
        "        images = coco_data.get('images', [])\n",
        "        annotations = coco_data.get('annotations', [])\n",
        "\n",
        "        # Crear mapeo de imagen a categorías UNIFICADAS (IGNORANDO BOUNDING BOXES)\n",
        "        image_to_categories = defaultdict(set)\n",
        "\n",
        "        # Solo extraer la clase principal de cada imagen, aplicando unificación\n",
        "        for ann in annotations:\n",
        "            image_id = ann['image_id']\n",
        "            category_id = ann['category_id']\n",
        "            if category_id in category_mapping:\n",
        "                original_category = category_mapping[category_id]\n",
        "                # Aplicar unificación de clases\n",
        "                unified_category = class_unification.get(original_category, original_category)\n",
        "                image_to_categories[image_id].add(unified_category)\n",
        "\n",
        "        # Copiar imágenes COMPLETAS desde ORIGINAL a dataset completo\n",
        "        processed = 0\n",
        "        for img_info in images:\n",
        "            img_id = img_info['id']\n",
        "            img_filename = img_info['file_name']\n",
        "            source_path = os.path.join(split_path, img_filename)  # DESDE ORIGINAL\n",
        "\n",
        "            if os.path.exists(source_path) and img_id in image_to_categories:\n",
        "                # Si la imagen tiene múltiples clases, usar la más frecuente\n",
        "                categories = list(image_to_categories[img_id])\n",
        "                main_category = categories[0] if categories else 'Unknown'\n",
        "\n",
        "                # Para múltiples detecciones en la misma imagen,\n",
        "                # tratarla como una sola imagen de clasificación\n",
        "                if len(categories) > 1:\n",
        "                    # Priorizar clases de enfermedad sobre \"Healthy\"\n",
        "                    disease_classes = [cat for cat in categories if cat.lower() != 'healthy']\n",
        "                    if disease_classes:\n",
        "                        main_category = disease_classes[0]\n",
        "\n",
        "                # Crear nombre único para evitar conflictos\n",
        "                base_name, ext = os.path.splitext(img_filename)\n",
        "                new_filename = f\"{split}_{base_name}{ext}\"\n",
        "\n",
        "                # Copiar a Roboflow organizado\n",
        "                roboflow_dest = os.path.join(roboflow_section, main_category, new_filename)\n",
        "                # Copiar a Dataset unificado\n",
        "                unified_dest = os.path.join(unified_section, main_category, f\"roboflow_{new_filename}\")\n",
        "\n",
        "                try:\n",
        "                    # Copiar imagen COMPLETA (no recortar bounding boxes)\n",
        "                    shutil.copy2(source_path, roboflow_dest)\n",
        "                    shutil.copy2(source_path, unified_dest)\n",
        "                    roboflow_class_counts[main_category] += 1\n",
        "                    processed += 1\n",
        "\n",
        "                    if processed % 1000 == 0:\n",
        "                        print(f\"    📸 Procesadas {processed} imágenes completas...\")\n",
        "\n",
        "                except Exception as e:\n",
        "                    print(f\"    ❌ Error copiando {img_filename}: {e}\")\n",
        "\n",
        "        print(f\"  ✅ {split.upper()} completado: {processed} imágenes procesadas\")\n",
        "\n",
        "print(f\"\\n📊 RESUMEN ROBOFLOW COPIADO (SIN BOUNDING BOXES):\")\n",
        "print(\"    ⚠️  Imágenes completas copiadas - información de bounding boxes eliminada\")\n",
        "for class_name, count in sorted(roboflow_class_counts.items()):\n",
        "    print(f\"  - {class_name}: {count} imágenes completas JPG\")"
      ],
      "metadata": {
        "colab": {
          "base_uri": "https://localhost:8080/"
        },
        "id": "5fkO7EU04eqn",
        "outputId": "ae6b1999-68d0-423b-c106-a353ee28e959"
      },
      "execution_count": null,
      "outputs": [
        {
          "output_type": "stream",
          "name": "stdout",
          "text": [
            "\n",
            "🔄 PASO 4: Copiando y organizando Roboflow...\n",
            "\n",
            "  🔍 Procesando TRAIN (desde original)...\n",
            "    📸 Procesadas 1000 imágenes completas...\n",
            "    📸 Procesadas 2000 imágenes completas...\n",
            "    📸 Procesadas 3000 imágenes completas...\n",
            "    📸 Procesadas 4000 imágenes completas...\n",
            "    📸 Procesadas 5000 imágenes completas...\n",
            "    📸 Procesadas 6000 imágenes completas...\n",
            "    📸 Procesadas 7000 imágenes completas...\n",
            "    📸 Procesadas 8000 imágenes completas...\n",
            "    📸 Procesadas 9000 imágenes completas...\n",
            "    📸 Procesadas 10000 imágenes completas...\n",
            "    📸 Procesadas 11000 imágenes completas...\n",
            "    📸 Procesadas 12000 imágenes completas...\n",
            "    📸 Procesadas 13000 imágenes completas...\n",
            "    📸 Procesadas 14000 imágenes completas...\n",
            "    📸 Procesadas 15000 imágenes completas...\n",
            "    📸 Procesadas 16000 imágenes completas...\n",
            "    📸 Procesadas 17000 imágenes completas...\n",
            "    📸 Procesadas 18000 imágenes completas...\n",
            "    📸 Procesadas 19000 imágenes completas...\n",
            "    📸 Procesadas 20000 imágenes completas...\n",
            "    📸 Procesadas 21000 imágenes completas...\n",
            "    📸 Procesadas 22000 imágenes completas...\n",
            "    📸 Procesadas 23000 imágenes completas...\n",
            "    📸 Procesadas 24000 imágenes completas...\n",
            "    📸 Procesadas 25000 imágenes completas...\n",
            "    📸 Procesadas 26000 imágenes completas...\n",
            "    📸 Procesadas 27000 imágenes completas...\n",
            "    📸 Procesadas 28000 imágenes completas...\n",
            "  ✅ TRAIN completado: 28077 imágenes procesadas\n",
            "\n",
            "  🔍 Procesando VALID (desde original)...\n",
            "  ✅ VALID completado: 801 imágenes procesadas\n",
            "\n",
            "  🔍 Procesando TEST (desde original)...\n",
            "  ✅ TEST completado: 535 imágenes procesadas\n",
            "\n",
            "📊 RESUMEN ROBOFLOW COPIADO (SIN BOUNDING BOXES):\n",
            "    ⚠️  Imágenes completas copiadas - información de bounding boxes eliminada\n",
            "  - Black Rot: 5962 imágenes completas JPG\n",
            "  - Downy Mildew: 6166 imágenes completas JPG\n",
            "  - Esca: 5945 imágenes completas JPG\n",
            "  - Healthy: 5556 imágenes completas JPG\n",
            "  - Leaf Blight: 5784 imágenes completas JPG\n"
          ]
        }
      ]
    }
  ]
}